{
 "cells": [
  {
   "cell_type": "markdown",
   "id": "57c781f5",
   "metadata": {},
   "source": [
    "# Result Analysis"
   ]
  },
  {
   "cell_type": "code",
   "execution_count": 1,
   "id": "2cb098b3",
   "metadata": {},
   "outputs": [],
   "source": [
    "class ReadFile:\n",
    "    def __init__(self, model, dataset):\n",
    "        self.model = model\n",
    "        self.dataset = dataset\n",
    "        self.results = [0 for _ in range(10)]\n",
    "\n",
    "    def read_file(self):\n",
    "        with open(\"./\"+self.model+\"/\"+self.dataset+\".txt\", 'r') as f:\n",
    "            self.results = f.readlines()"
   ]
  },
  {
   "cell_type": "code",
   "execution_count": 2,
   "id": "9fd3d575",
   "metadata": {},
   "outputs": [],
   "source": [
    "class GetACC(ReadFile):\n",
    "    def __init__(self, model, dataset):\n",
    "        super().__init__(model, dataset)\n",
    "        self.accs = [0 for _ in range(10)]\n",
    "        self.acc = 0\n",
    "\n",
    "    def get_only_acc(self):\n",
    "        for i, result in enumerate(self.results):\n",
    "            start = result.find(\"TestAccuracy\") + 13\n",
    "            end = result.find(\"\\n\")\n",
    "            self.accs[i] = float(result[start:end])\n",
    "\n",
    "    def get_mean(self):\n",
    "        self.acc = sum(self.accs) / len(self.accs)\n",
    "\n",
    "    def __call__(self):\n",
    "        self.read_file()\n",
    "        self.get_only_acc()\n",
    "        self.get_mean()\n",
    "        return self.acc"
   ]
  },
  {
   "cell_type": "code",
   "execution_count": 3,
   "id": "05d97420",
   "metadata": {},
   "outputs": [],
   "source": [
    "class GetTime(ReadFile):\n",
    "    def __init__(self, model, dataset):\n",
    "        super().__init__(model, dataset)\n",
    "        self.times = [0 for _ in range(10)]\n",
    "        self.time = 0\n",
    "\n",
    "    def get_only_time(self):\n",
    "        for i, result in enumerate(self.results):\n",
    "            start = result.find(\"TrainEpochTime(sum)\") + 20\n",
    "            end = start + 6\n",
    "            self.times[i] = float(result[start:end])\n",
    "\n",
    "    def get_mean(self):\n",
    "        self.time = sum(self.times) / len(self.times)\n",
    "\n",
    "    def __call__(self):\n",
    "        self.read_file()\n",
    "        self.get_only_time()\n",
    "        self.get_mean()\n",
    "        return self.time"
   ]
  },
  {
   "cell_type": "markdown",
   "id": "81e68570",
   "metadata": {},
   "source": [
    "## DistDGL Result Analysis"
   ]
  },
  {
   "cell_type": "markdown",
   "id": "8f2d4b07",
   "metadata": {},
   "source": [
    "### CORA"
   ]
  },
  {
   "cell_type": "code",
   "execution_count": 4,
   "id": "dcf8711c",
   "metadata": {},
   "outputs": [
    {
     "name": "stdout",
     "output_type": "stream",
     "text": [
      "Time: 4.14\n",
      "Accuracy: 0.6612\n"
     ]
    }
   ],
   "source": [
    "get_time = GetTime(\"DistDGL\", \"cora\")\n",
    "print(f\"Time: {get_time():.2f}\")\n",
    "get_acc = GetACC(\"DistDGL\", \"cora\")\n",
    "print(f\"Accuracy: {get_acc():.4f}\")"
   ]
  },
  {
   "cell_type": "markdown",
   "id": "277fff06",
   "metadata": {},
   "source": [
    "###  CITESEER"
   ]
  },
  {
   "cell_type": "code",
   "execution_count": 5,
   "id": "4ff8602c",
   "metadata": {},
   "outputs": [
    {
     "name": "stdout",
     "output_type": "stream",
     "text": [
      "Time: 61.71\n",
      "Accuracy: 0.6584\n"
     ]
    }
   ],
   "source": [
    "get_time = GetTime(\"DistDGL\", \"citeseer\")\n",
    "print(f\"Time: {get_time():.2f}\")\n",
    "get_acc = GetACC(\"DistDGL\", \"citeseer\")\n",
    "print(f\"Accuracy: {get_acc():.4f}\")"
   ]
  },
  {
   "cell_type": "markdown",
   "id": "64498930",
   "metadata": {},
   "source": [
    "### ogbn-products"
   ]
  },
  {
   "cell_type": "code",
   "execution_count": 6,
   "id": "2c21d444",
   "metadata": {},
   "outputs": [
    {
     "name": "stdout",
     "output_type": "stream",
     "text": [
      "Time: 183.17\n",
      "Accuracy: 0.6279\n"
     ]
    }
   ],
   "source": [
    "get_time = GetTime(\"DistDGL\", \"ogb-product\")\n",
    "print(f\"Time: {get_time():.2f}\")\n",
    "get_acc = GetACC(\"DistDGL\", \"ogb-product\")\n",
    "print(f\"Accuracy: {get_acc():.4f}\")"
   ]
  },
  {
   "cell_type": "markdown",
   "id": "20a3fb93",
   "metadata": {},
   "source": [
    "### ogbn-papers100M"
   ]
  },
  {
   "cell_type": "code",
   "execution_count": 7,
   "id": "e5d5adfb",
   "metadata": {},
   "outputs": [
    {
     "name": "stdout",
     "output_type": "stream",
     "text": [
      "Time: 644.27\n",
      "Accuracy: 0.3179\n"
     ]
    }
   ],
   "source": [
    "get_time = GetTime(\"DistDGL\", \"ogb-paper100M\")\n",
    "print(f\"Time: {get_time():.2f}\")\n",
    "get_acc = GetACC(\"DistDGL\", \"ogb-paper100M\")\n",
    "print(f\"Accuracy: {get_acc():.4f}\")"
   ]
  },
  {
   "cell_type": "markdown",
   "id": "df1a5e88",
   "metadata": {},
   "source": [
    "### DistMHAug Result Analysis"
   ]
  },
  {
   "cell_type": "markdown",
   "id": "902b8807",
   "metadata": {},
   "source": [
    "### CORA"
   ]
  },
  {
   "cell_type": "code",
   "execution_count": 8,
   "id": "899cf856",
   "metadata": {},
   "outputs": [
    {
     "name": "stdout",
     "output_type": "stream",
     "text": [
      "Time: 15.97\n",
      "Accuracy: 0.6668\n"
     ]
    }
   ],
   "source": [
    "get_time = GetTime(\"DistMHAug\", \"cora\")\n",
    "print(f\"Time: {get_time():.2f}\")\n",
    "get_acc = GetACC(\"DistMHAug\", \"cora\")\n",
    "print(f\"Accuracy: {get_acc():.4f}\")"
   ]
  },
  {
   "cell_type": "markdown",
   "id": "e7413a6c",
   "metadata": {},
   "source": [
    "### CITESEER"
   ]
  },
  {
   "cell_type": "code",
   "execution_count": 9,
   "id": "dc955045",
   "metadata": {},
   "outputs": [
    {
     "name": "stdout",
     "output_type": "stream",
     "text": [
      "Time: 252.93\n",
      "Accuracy: 0.7528\n"
     ]
    }
   ],
   "source": [
    "get_time = GetTime(\"DistMHAug\", \"citeseer\")\n",
    "print(f\"Time: {get_time():.2f}\")\n",
    "get_acc = GetACC(\"DistMHAug\", \"citeseer\")\n",
    "print(f\"Accuracy: {get_acc():.4f}\")"
   ]
  },
  {
   "cell_type": "markdown",
   "id": "53bca97f",
   "metadata": {},
   "source": [
    "### ogbn-products"
   ]
  },
  {
   "cell_type": "code",
   "execution_count": 10,
   "id": "873766b0",
   "metadata": {},
   "outputs": [
    {
     "name": "stdout",
     "output_type": "stream",
     "text": [
      "Time: 827.82\n",
      "Accuracy: 0.5890\n"
     ]
    }
   ],
   "source": [
    "get_time = GetTime(\"DistMHAug\", \"ogb-product\")\n",
    "print(f\"Time: {get_time():.2f}\")\n",
    "get_acc = GetACC(\"DistMHAug\", \"ogb-product\")\n",
    "print(f\"Accuracy: {get_acc():.4f}\")"
   ]
  },
  {
   "cell_type": "markdown",
   "id": "4e7c465c",
   "metadata": {},
   "source": [
    "### ogbn-papers100M"
   ]
  },
  {
   "cell_type": "code",
   "execution_count": null,
   "id": "985b2742",
   "metadata": {},
   "outputs": [],
   "source": []
  }
 ],
 "metadata": {
  "kernelspec": {
   "display_name": "Python 3 (ipykernel)",
   "language": "python",
   "name": "python3"
  },
  "language_info": {
   "codemirror_mode": {
    "name": "ipython",
    "version": 3
   },
   "file_extension": ".py",
   "mimetype": "text/x-python",
   "name": "python",
   "nbconvert_exporter": "python",
   "pygments_lexer": "ipython3",
   "version": "3.10.11"
  }
 },
 "nbformat": 4,
 "nbformat_minor": 5
}
